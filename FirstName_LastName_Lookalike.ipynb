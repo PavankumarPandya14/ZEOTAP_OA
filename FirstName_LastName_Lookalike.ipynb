{
  "nbformat": 4,
  "nbformat_minor": 0,
  "metadata": {
    "colab": {
      "provenance": [],
      "mount_file_id": "1HfN2rQ5IgB9p0Ueo9P-N1_I-hwvXa1VD",
      "authorship_tag": "ABX9TyNQxi4lsv8fQjw7xS4VCW0k",
      "include_colab_link": true
    },
    "kernelspec": {
      "name": "python3",
      "display_name": "Python 3"
    },
    "language_info": {
      "name": "python"
    }
  },
  "cells": [
    {
      "cell_type": "markdown",
      "metadata": {
        "id": "view-in-github",
        "colab_type": "text"
      },
      "source": [
        "<a href=\"https://colab.research.google.com/github/PavankumarPandya14/ZEOTAP_OA/blob/main/FirstName_LastName_Lookalike.ipynb\" target=\"_parent\"><img src=\"https://colab.research.google.com/assets/colab-badge.svg\" alt=\"Open In Colab\"/></a>"
      ]
    },
    {
      "cell_type": "markdown",
      "source": [
        "## Importing Libraries"
      ],
      "metadata": {
        "id": "qZStQAseDY9c"
      }
    },
    {
      "cell_type": "code",
      "execution_count": 1,
      "metadata": {
        "id": "t9RkkbieCaaY"
      },
      "outputs": [],
      "source": [
        "import pandas as pd\n",
        "import numpy as np\n",
        "import matplotlib.pyplot as plt\n",
        "import seaborn as sns\n",
        "from sklearn.metrics.pairwise import cosine_similarity\n",
        "from sklearn.metrics import davies_bouldin_score, silhouette_score\n",
        "from sklearn.preprocessing import LabelEncoder, MinMaxScaler, StandardScaler\n",
        "from sklearn.cluster import KMeans"
      ]
    },
    {
      "cell_type": "markdown",
      "source": [
        "## Loading Dataset"
      ],
      "metadata": {
        "id": "y-QScKxmDan9"
      }
    },
    {
      "cell_type": "code",
      "source": [
        "# Load the dataset\n",
        "customers_df = pd.read_csv('https://drive.google.com/uc?export=download&id=1bu_--mo79VdUG9oin4ybfFGRUSXAe-WE')\n",
        "products_df = pd.read_csv('https://drive.google.com/uc?export=download&id=1IKuDizVapw-hyktwfpoAoaGtHtTNHfd0')\n",
        "transactions_df = pd.read_csv('https://drive.google.com/uc?export=download&id=1saEqdbBB-vuk2hxoAf4TzDEsykdKlzbF')\n",
        "\n",
        "# Checking the shapes of the dataframes\n",
        "customers_df.shape, products_df.shape, transactions_df.shape"
      ],
      "metadata": {
        "colab": {
          "base_uri": "https://localhost:8080/"
        },
        "id": "2oUiY2LJCl15",
        "outputId": "605324ac-4151-47b6-d5c3-4e0924330efa"
      },
      "execution_count": 2,
      "outputs": [
        {
          "output_type": "execute_result",
          "data": {
            "text/plain": [
              "((200, 4), (100, 4), (1000, 7))"
            ]
          },
          "metadata": {},
          "execution_count": 2
        }
      ]
    },
    {
      "cell_type": "markdown",
      "source": [
        "## Lookalike Model"
      ],
      "metadata": {
        "id": "0vo5Nks-C8rx"
      }
    },
    {
      "cell_type": "code",
      "source": [
        "# Merge datasets\n",
        "transactions_products = pd.merge(transactions_df, products_df, on=\"ProductID\", how=\"left\")\n",
        "customer_transactions = pd.merge(transactions_products, customers_df, on=\"CustomerID\", how=\"left\")\n",
        "\n",
        "# Create customer profiles\n",
        "customer_profiles = customer_transactions.groupby(\"CustomerID\").agg({\n",
        "    'TotalValue': 'sum',  # Total spending by the customer\n",
        "    'TransactionID': 'count',  # Number of transactions\n",
        "    'Category': lambda x: x.mode()[0],  # Most common product category\n",
        "    'Region': 'first',  # Region (same for each customer)\n",
        "}).rename(columns={\n",
        "    'TotalValue': 'TotalSpending',\n",
        "    'TransactionID': 'TransactionCount',\n",
        "    'Category': 'FavoriteCategory'\n",
        "}).reset_index()\n",
        "\n",
        "# Encode categorical features\n",
        "label_encoders = {}\n",
        "for col in ['Region', 'FavoriteCategory']:\n",
        "    label_encoders[col] = LabelEncoder()\n",
        "    customer_profiles[col] = label_encoders[col].fit_transform(customer_profiles[col])\n",
        "\n",
        "# Normalize numeric features\n",
        "scaler = MinMaxScaler()\n",
        "customer_profiles[['TotalSpending', 'TransactionCount']] = scaler.fit_transform(\n",
        "    customer_profiles[['TotalSpending', 'TransactionCount']]\n",
        ")\n",
        "\n",
        "# Compute similarity matrix\n",
        "features = ['TotalSpending', 'TransactionCount', 'FavoriteCategory', 'Region']\n",
        "similarity_matrix = cosine_similarity(customer_profiles[features])\n",
        "\n",
        "# Function to recommend lookalikes\n",
        "def recommend_lookalikes(customer_id, top_n=3):\n",
        "    customer_idx = customer_profiles[customer_profiles['CustomerID'] == customer_id].index[0]\n",
        "    similarity_scores = similarity_matrix[customer_idx]\n",
        "    similar_indices = similarity_scores.argsort()[::-1][1:top_n + 1]\n",
        "    recommendations = customer_profiles.iloc[similar_indices][['CustomerID']].copy()\n",
        "    recommendations['SimilarityScore'] = similarity_scores[similar_indices]\n",
        "    return recommendations\n",
        "\n",
        "# Example usage\n",
        "test_customer_id = \"C0001\"  # Replace with the desired customer ID\n",
        "lookalikes = recommend_lookalikes(test_customer_id)\n",
        "print(lookalikes)"
      ],
      "metadata": {
        "colab": {
          "base_uri": "https://localhost:8080/"
        },
        "id": "zk9pHMZvC09P",
        "outputId": "e6197fd1-6a92-41f8-b257-d7ee102c2d6c"
      },
      "execution_count": 3,
      "outputs": [
        {
          "output_type": "stream",
          "name": "stdout",
          "text": [
            "    CustomerID  SimilarityScore\n",
            "188      C0190         0.999954\n",
            "47       C0048         0.999918\n",
            "179      C0181         0.999630\n"
          ]
        }
      ]
    },
    {
      "cell_type": "markdown",
      "source": [
        "### Summary of above code\n",
        "\n",
        "1. **Combine Data**: Merge customer, product, and transaction information into one dataset.\n",
        "\n",
        "2. **Create Profiles**: Summarize each customer's total spending, number of purchases, favorite product category, and region.\n",
        "\n",
        "3. **Prepare Data**: Convert text data to numbers and scale numeric features for fair comparison.\n",
        "\n",
        "4. **Find Similarities**: Calculate how similar each customer is to others based on their profiles.\n",
        "\n",
        "5. **Recommend**: For a given customer, suggest the top 3 most similar customers."
      ],
      "metadata": {
        "id": "-07WPK_9DHpi"
      }
    },
    {
      "cell_type": "code",
      "source": [
        "# Assuming 'lookalikes' DataFrame exists and has columns 'CustomerID' and 'SimilarityScore'\n",
        "lookalikes_df = pd.DataFrame(columns=['CustomerID', 'SimilarityScore'])\n",
        "\n",
        "# Loop to create test_customer_id and populate lookalikes_df\n",
        "for i in range(1, 21):\n",
        "    # Format the customer ID with leading zeros\n",
        "    if i < 10:\n",
        "        test_customer_id = \"C000\" + str(i)\n",
        "    else:\n",
        "        test_customer_id = \"C00\" + str(i)\n",
        "\n",
        "    # Create a list of dictionaries for 'CustomerID' and 'SimilarityScore'\n",
        "    result_list = lookalikes.apply(lambda row: {row['CustomerID']: row['SimilarityScore']}, axis=1).tolist()\n",
        "\n",
        "    # Append the result to the DataFrame\n",
        "    lookalikes_df = pd.concat(\n",
        "        [lookalikes_df, pd.DataFrame({'CustomerID': [test_customer_id], 'SimilarityScore': [result_list]})],\n",
        "        ignore_index=True\n",
        "    )\n",
        "\n",
        "# Display the resulting DataFrame\n",
        "lookalikes_df.head()"
      ],
      "metadata": {
        "colab": {
          "base_uri": "https://localhost:8080/",
          "height": 204
        },
        "id": "Aa7y6JL_DAxO",
        "outputId": "05db37a5-b8cd-403b-db92-0716a504fa3a"
      },
      "execution_count": 4,
      "outputs": [
        {
          "output_type": "execute_result",
          "data": {
            "text/plain": [
              "  CustomerID                                    SimilarityScore\n",
              "0      C0001  [{'C0190': 0.9999538555540228}, {'C0048': 0.99...\n",
              "1      C0002  [{'C0190': 0.9999538555540228}, {'C0048': 0.99...\n",
              "2      C0003  [{'C0190': 0.9999538555540228}, {'C0048': 0.99...\n",
              "3      C0004  [{'C0190': 0.9999538555540228}, {'C0048': 0.99...\n",
              "4      C0005  [{'C0190': 0.9999538555540228}, {'C0048': 0.99..."
            ],
            "text/html": [
              "\n",
              "  <div id=\"df-40d155d9-8fa5-4c99-979f-619f542a0590\" class=\"colab-df-container\">\n",
              "    <div>\n",
              "<style scoped>\n",
              "    .dataframe tbody tr th:only-of-type {\n",
              "        vertical-align: middle;\n",
              "    }\n",
              "\n",
              "    .dataframe tbody tr th {\n",
              "        vertical-align: top;\n",
              "    }\n",
              "\n",
              "    .dataframe thead th {\n",
              "        text-align: right;\n",
              "    }\n",
              "</style>\n",
              "<table border=\"1\" class=\"dataframe\">\n",
              "  <thead>\n",
              "    <tr style=\"text-align: right;\">\n",
              "      <th></th>\n",
              "      <th>CustomerID</th>\n",
              "      <th>SimilarityScore</th>\n",
              "    </tr>\n",
              "  </thead>\n",
              "  <tbody>\n",
              "    <tr>\n",
              "      <th>0</th>\n",
              "      <td>C0001</td>\n",
              "      <td>[{'C0190': 0.9999538555540228}, {'C0048': 0.99...</td>\n",
              "    </tr>\n",
              "    <tr>\n",
              "      <th>1</th>\n",
              "      <td>C0002</td>\n",
              "      <td>[{'C0190': 0.9999538555540228}, {'C0048': 0.99...</td>\n",
              "    </tr>\n",
              "    <tr>\n",
              "      <th>2</th>\n",
              "      <td>C0003</td>\n",
              "      <td>[{'C0190': 0.9999538555540228}, {'C0048': 0.99...</td>\n",
              "    </tr>\n",
              "    <tr>\n",
              "      <th>3</th>\n",
              "      <td>C0004</td>\n",
              "      <td>[{'C0190': 0.9999538555540228}, {'C0048': 0.99...</td>\n",
              "    </tr>\n",
              "    <tr>\n",
              "      <th>4</th>\n",
              "      <td>C0005</td>\n",
              "      <td>[{'C0190': 0.9999538555540228}, {'C0048': 0.99...</td>\n",
              "    </tr>\n",
              "  </tbody>\n",
              "</table>\n",
              "</div>\n",
              "    <div class=\"colab-df-buttons\">\n",
              "\n",
              "  <div class=\"colab-df-container\">\n",
              "    <button class=\"colab-df-convert\" onclick=\"convertToInteractive('df-40d155d9-8fa5-4c99-979f-619f542a0590')\"\n",
              "            title=\"Convert this dataframe to an interactive table.\"\n",
              "            style=\"display:none;\">\n",
              "\n",
              "  <svg xmlns=\"http://www.w3.org/2000/svg\" height=\"24px\" viewBox=\"0 -960 960 960\">\n",
              "    <path d=\"M120-120v-720h720v720H120Zm60-500h600v-160H180v160Zm220 220h160v-160H400v160Zm0 220h160v-160H400v160ZM180-400h160v-160H180v160Zm440 0h160v-160H620v160ZM180-180h160v-160H180v160Zm440 0h160v-160H620v160Z\"/>\n",
              "  </svg>\n",
              "    </button>\n",
              "\n",
              "  <style>\n",
              "    .colab-df-container {\n",
              "      display:flex;\n",
              "      gap: 12px;\n",
              "    }\n",
              "\n",
              "    .colab-df-convert {\n",
              "      background-color: #E8F0FE;\n",
              "      border: none;\n",
              "      border-radius: 50%;\n",
              "      cursor: pointer;\n",
              "      display: none;\n",
              "      fill: #1967D2;\n",
              "      height: 32px;\n",
              "      padding: 0 0 0 0;\n",
              "      width: 32px;\n",
              "    }\n",
              "\n",
              "    .colab-df-convert:hover {\n",
              "      background-color: #E2EBFA;\n",
              "      box-shadow: 0px 1px 2px rgba(60, 64, 67, 0.3), 0px 1px 3px 1px rgba(60, 64, 67, 0.15);\n",
              "      fill: #174EA6;\n",
              "    }\n",
              "\n",
              "    .colab-df-buttons div {\n",
              "      margin-bottom: 4px;\n",
              "    }\n",
              "\n",
              "    [theme=dark] .colab-df-convert {\n",
              "      background-color: #3B4455;\n",
              "      fill: #D2E3FC;\n",
              "    }\n",
              "\n",
              "    [theme=dark] .colab-df-convert:hover {\n",
              "      background-color: #434B5C;\n",
              "      box-shadow: 0px 1px 3px 1px rgba(0, 0, 0, 0.15);\n",
              "      filter: drop-shadow(0px 1px 2px rgba(0, 0, 0, 0.3));\n",
              "      fill: #FFFFFF;\n",
              "    }\n",
              "  </style>\n",
              "\n",
              "    <script>\n",
              "      const buttonEl =\n",
              "        document.querySelector('#df-40d155d9-8fa5-4c99-979f-619f542a0590 button.colab-df-convert');\n",
              "      buttonEl.style.display =\n",
              "        google.colab.kernel.accessAllowed ? 'block' : 'none';\n",
              "\n",
              "      async function convertToInteractive(key) {\n",
              "        const element = document.querySelector('#df-40d155d9-8fa5-4c99-979f-619f542a0590');\n",
              "        const dataTable =\n",
              "          await google.colab.kernel.invokeFunction('convertToInteractive',\n",
              "                                                    [key], {});\n",
              "        if (!dataTable) return;\n",
              "\n",
              "        const docLinkHtml = 'Like what you see? Visit the ' +\n",
              "          '<a target=\"_blank\" href=https://colab.research.google.com/notebooks/data_table.ipynb>data table notebook</a>'\n",
              "          + ' to learn more about interactive tables.';\n",
              "        element.innerHTML = '';\n",
              "        dataTable['output_type'] = 'display_data';\n",
              "        await google.colab.output.renderOutput(dataTable, element);\n",
              "        const docLink = document.createElement('div');\n",
              "        docLink.innerHTML = docLinkHtml;\n",
              "        element.appendChild(docLink);\n",
              "      }\n",
              "    </script>\n",
              "  </div>\n",
              "\n",
              "\n",
              "<div id=\"df-31779416-7c20-4d39-8dee-db55c6e4e013\">\n",
              "  <button class=\"colab-df-quickchart\" onclick=\"quickchart('df-31779416-7c20-4d39-8dee-db55c6e4e013')\"\n",
              "            title=\"Suggest charts\"\n",
              "            style=\"display:none;\">\n",
              "\n",
              "<svg xmlns=\"http://www.w3.org/2000/svg\" height=\"24px\"viewBox=\"0 0 24 24\"\n",
              "     width=\"24px\">\n",
              "    <g>\n",
              "        <path d=\"M19 3H5c-1.1 0-2 .9-2 2v14c0 1.1.9 2 2 2h14c1.1 0 2-.9 2-2V5c0-1.1-.9-2-2-2zM9 17H7v-7h2v7zm4 0h-2V7h2v10zm4 0h-2v-4h2v4z\"/>\n",
              "    </g>\n",
              "</svg>\n",
              "  </button>\n",
              "\n",
              "<style>\n",
              "  .colab-df-quickchart {\n",
              "      --bg-color: #E8F0FE;\n",
              "      --fill-color: #1967D2;\n",
              "      --hover-bg-color: #E2EBFA;\n",
              "      --hover-fill-color: #174EA6;\n",
              "      --disabled-fill-color: #AAA;\n",
              "      --disabled-bg-color: #DDD;\n",
              "  }\n",
              "\n",
              "  [theme=dark] .colab-df-quickchart {\n",
              "      --bg-color: #3B4455;\n",
              "      --fill-color: #D2E3FC;\n",
              "      --hover-bg-color: #434B5C;\n",
              "      --hover-fill-color: #FFFFFF;\n",
              "      --disabled-bg-color: #3B4455;\n",
              "      --disabled-fill-color: #666;\n",
              "  }\n",
              "\n",
              "  .colab-df-quickchart {\n",
              "    background-color: var(--bg-color);\n",
              "    border: none;\n",
              "    border-radius: 50%;\n",
              "    cursor: pointer;\n",
              "    display: none;\n",
              "    fill: var(--fill-color);\n",
              "    height: 32px;\n",
              "    padding: 0;\n",
              "    width: 32px;\n",
              "  }\n",
              "\n",
              "  .colab-df-quickchart:hover {\n",
              "    background-color: var(--hover-bg-color);\n",
              "    box-shadow: 0 1px 2px rgba(60, 64, 67, 0.3), 0 1px 3px 1px rgba(60, 64, 67, 0.15);\n",
              "    fill: var(--button-hover-fill-color);\n",
              "  }\n",
              "\n",
              "  .colab-df-quickchart-complete:disabled,\n",
              "  .colab-df-quickchart-complete:disabled:hover {\n",
              "    background-color: var(--disabled-bg-color);\n",
              "    fill: var(--disabled-fill-color);\n",
              "    box-shadow: none;\n",
              "  }\n",
              "\n",
              "  .colab-df-spinner {\n",
              "    border: 2px solid var(--fill-color);\n",
              "    border-color: transparent;\n",
              "    border-bottom-color: var(--fill-color);\n",
              "    animation:\n",
              "      spin 1s steps(1) infinite;\n",
              "  }\n",
              "\n",
              "  @keyframes spin {\n",
              "    0% {\n",
              "      border-color: transparent;\n",
              "      border-bottom-color: var(--fill-color);\n",
              "      border-left-color: var(--fill-color);\n",
              "    }\n",
              "    20% {\n",
              "      border-color: transparent;\n",
              "      border-left-color: var(--fill-color);\n",
              "      border-top-color: var(--fill-color);\n",
              "    }\n",
              "    30% {\n",
              "      border-color: transparent;\n",
              "      border-left-color: var(--fill-color);\n",
              "      border-top-color: var(--fill-color);\n",
              "      border-right-color: var(--fill-color);\n",
              "    }\n",
              "    40% {\n",
              "      border-color: transparent;\n",
              "      border-right-color: var(--fill-color);\n",
              "      border-top-color: var(--fill-color);\n",
              "    }\n",
              "    60% {\n",
              "      border-color: transparent;\n",
              "      border-right-color: var(--fill-color);\n",
              "    }\n",
              "    80% {\n",
              "      border-color: transparent;\n",
              "      border-right-color: var(--fill-color);\n",
              "      border-bottom-color: var(--fill-color);\n",
              "    }\n",
              "    90% {\n",
              "      border-color: transparent;\n",
              "      border-bottom-color: var(--fill-color);\n",
              "    }\n",
              "  }\n",
              "</style>\n",
              "\n",
              "  <script>\n",
              "    async function quickchart(key) {\n",
              "      const quickchartButtonEl =\n",
              "        document.querySelector('#' + key + ' button');\n",
              "      quickchartButtonEl.disabled = true;  // To prevent multiple clicks.\n",
              "      quickchartButtonEl.classList.add('colab-df-spinner');\n",
              "      try {\n",
              "        const charts = await google.colab.kernel.invokeFunction(\n",
              "            'suggestCharts', [key], {});\n",
              "      } catch (error) {\n",
              "        console.error('Error during call to suggestCharts:', error);\n",
              "      }\n",
              "      quickchartButtonEl.classList.remove('colab-df-spinner');\n",
              "      quickchartButtonEl.classList.add('colab-df-quickchart-complete');\n",
              "    }\n",
              "    (() => {\n",
              "      let quickchartButtonEl =\n",
              "        document.querySelector('#df-31779416-7c20-4d39-8dee-db55c6e4e013 button');\n",
              "      quickchartButtonEl.style.display =\n",
              "        google.colab.kernel.accessAllowed ? 'block' : 'none';\n",
              "    })();\n",
              "  </script>\n",
              "</div>\n",
              "\n",
              "    </div>\n",
              "  </div>\n"
            ],
            "application/vnd.google.colaboratory.intrinsic+json": {
              "type": "dataframe",
              "variable_name": "lookalikes_df",
              "summary": "{\n  \"name\": \"lookalikes_df\",\n  \"rows\": 20,\n  \"fields\": [\n    {\n      \"column\": \"CustomerID\",\n      \"properties\": {\n        \"dtype\": \"string\",\n        \"num_unique_values\": 20,\n        \"samples\": [\n          \"C0001\",\n          \"C0018\",\n          \"C0016\"\n        ],\n        \"semantic_type\": \"\",\n        \"description\": \"\"\n      }\n    },\n    {\n      \"column\": \"SimilarityScore\",\n      \"properties\": {\n        \"dtype\": \"object\",\n        \"semantic_type\": \"\",\n        \"description\": \"\"\n      }\n    }\n  ]\n}"
            }
          },
          "metadata": {},
          "execution_count": 4
        }
      ]
    },
    {
      "cell_type": "markdown",
      "source": [
        "Exporting the code"
      ],
      "metadata": {
        "id": "vhI0REQoDQa1"
      }
    },
    {
      "cell_type": "code",
      "source": [
        "lookalikes_df.to_csv('lookalikes.csv', index=False)"
      ],
      "metadata": {
        "id": "Yqai56ZrDMMr"
      },
      "execution_count": 5,
      "outputs": []
    }
  ]
}